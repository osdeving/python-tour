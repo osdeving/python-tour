{
 "cells": [
  {
   "cell_type": "markdown",
   "id": "1165adad-3465-4168-af51-011b3a7a9d77",
   "metadata": {},
   "source": [
    "# Introdução à Collections"
   ]
  },
  {
   "cell_type": "markdown",
   "id": "9d59b810-8de5-4b28-8ab2-794f387efaee",
   "metadata": {},
   "source": [
    "## Listas"
   ]
  },
  {
   "cell_type": "code",
   "execution_count": 1,
   "id": "8a24b8a6-5c6a-4395-a74c-af7c3c1d4946",
   "metadata": {},
   "outputs": [],
   "source": [
    "idade1 = 10\n",
    "idade2 = 20\n",
    "idade3 = 30"
   ]
  },
  {
   "cell_type": "code",
   "execution_count": 2,
   "id": "bc6e048c-1d98-4536-95e0-2462c8bbf9d6",
   "metadata": {},
   "outputs": [
    {
     "name": "stdout",
     "output_type": "stream",
     "text": [
      "10\n",
      "20\n",
      "20\n"
     ]
    }
   ],
   "source": [
    "print(idade1)\n",
    "print(idade2)\n",
    "print(idade2)"
   ]
  },
  {
   "cell_type": "code",
   "execution_count": 3,
   "id": "0f59b816-f9f9-4f02-9465-4e58c5f1cd13",
   "metadata": {},
   "outputs": [],
   "source": [
    "idades = [10, 20, 30]"
   ]
  },
  {
   "cell_type": "code",
   "execution_count": 4,
   "id": "afbaec28-2985-46b3-8d47-8f2632f6c547",
   "metadata": {},
   "outputs": [
    {
     "data": {
      "text/plain": [
       "list"
      ]
     },
     "execution_count": 4,
     "metadata": {},
     "output_type": "execute_result"
    }
   ],
   "source": [
    "type(idades)"
   ]
  },
  {
   "cell_type": "code",
   "execution_count": 5,
   "id": "47ac97cb-21f8-4789-ac7d-83345b07f303",
   "metadata": {},
   "outputs": [
    {
     "data": {
      "text/plain": [
       "3"
      ]
     },
     "execution_count": 5,
     "metadata": {},
     "output_type": "execute_result"
    }
   ],
   "source": [
    "len(idades)"
   ]
  },
  {
   "cell_type": "code",
   "execution_count": 6,
   "id": "7d516d62-54fb-4618-a051-04a4debc0514",
   "metadata": {},
   "outputs": [
    {
     "data": {
      "text/plain": [
       "10"
      ]
     },
     "execution_count": 6,
     "metadata": {},
     "output_type": "execute_result"
    }
   ],
   "source": [
    "idades[0]"
   ]
  },
  {
   "cell_type": "code",
   "execution_count": 7,
   "id": "4c6d8670-8cf4-4b06-9294-c4f60acc058f",
   "metadata": {},
   "outputs": [
    {
     "data": {
      "text/plain": [
       "[10, 20, 30]"
      ]
     },
     "execution_count": 7,
     "metadata": {},
     "output_type": "execute_result"
    }
   ],
   "source": [
    "idades"
   ]
  },
  {
   "cell_type": "code",
   "execution_count": 8,
   "id": "6c485691-eb87-477e-a9f3-81a579c79067",
   "metadata": {},
   "outputs": [],
   "source": [
    "idades.append(40)"
   ]
  },
  {
   "cell_type": "code",
   "execution_count": 9,
   "id": "c8782a3f-602e-4850-ad6f-9982b6740737",
   "metadata": {},
   "outputs": [
    {
     "data": {
      "text/plain": [
       "[10, 20, 30, 40]"
      ]
     },
     "execution_count": 9,
     "metadata": {},
     "output_type": "execute_result"
    }
   ],
   "source": [
    "idades"
   ]
  },
  {
   "cell_type": "code",
   "execution_count": 10,
   "id": "e1e94db1-394c-4c0a-b04e-08549a5284cc",
   "metadata": {},
   "outputs": [
    {
     "ename": "IndexError",
     "evalue": "list index out of range",
     "output_type": "error",
     "traceback": [
      "\u001b[31m---------------------------------------------------------------------------\u001b[39m",
      "\u001b[31mIndexError\u001b[39m                                Traceback (most recent call last)",
      "\u001b[36mCell\u001b[39m\u001b[36m \u001b[39m\u001b[32mIn[10]\u001b[39m\u001b[32m, line 1\u001b[39m\n\u001b[32m----> \u001b[39m\u001b[32m1\u001b[39m \u001b[43midades\u001b[49m\u001b[43m[\u001b[49m\u001b[32;43m5\u001b[39;49m\u001b[43m]\u001b[49m\n",
      "\u001b[31mIndexError\u001b[39m: list index out of range"
     ]
    }
   ],
   "source": [
    "idades[5]"
   ]
  },
  {
   "cell_type": "code",
   "execution_count": 11,
   "id": "df6de1f3-443e-4328-9985-fa1a5fae3dca",
   "metadata": {},
   "outputs": [
    {
     "name": "stdout",
     "output_type": "stream",
     "text": [
      "10\n",
      "20\n",
      "30\n",
      "40\n"
     ]
    }
   ],
   "source": [
    "for idade in idades:\n",
    "    print(idade)"
   ]
  },
  {
   "cell_type": "code",
   "execution_count": 12,
   "id": "4cc916fe-0949-4c4b-84a1-c80a69061da3",
   "metadata": {},
   "outputs": [],
   "source": [
    "idades.remove(30)"
   ]
  },
  {
   "cell_type": "code",
   "execution_count": 13,
   "id": "a815c9c9-34e6-44b9-b8cf-e62aca91dff3",
   "metadata": {},
   "outputs": [
    {
     "data": {
      "text/plain": [
       "[10, 20, 40]"
      ]
     },
     "execution_count": 13,
     "metadata": {},
     "output_type": "execute_result"
    }
   ],
   "source": [
    "idades"
   ]
  },
  {
   "cell_type": "code",
   "execution_count": 14,
   "id": "dd4a857f-a118-4cd3-ae52-4cd9e6c2756b",
   "metadata": {},
   "outputs": [],
   "source": [
    "idades.clear()"
   ]
  },
  {
   "cell_type": "code",
   "execution_count": 15,
   "id": "17f3994b-178e-4bd0-be70-0fd585c52c97",
   "metadata": {},
   "outputs": [
    {
     "data": {
      "text/plain": [
       "[]"
      ]
     },
     "execution_count": 15,
     "metadata": {},
     "output_type": "execute_result"
    }
   ],
   "source": [
    "idades"
   ]
  },
  {
   "cell_type": "code",
   "execution_count": 16,
   "id": "baf13b41-2c6f-4d81-849b-70bbfac4907f",
   "metadata": {},
   "outputs": [],
   "source": [
    "idades.append(10)"
   ]
  },
  {
   "cell_type": "code",
   "execution_count": 17,
   "id": "11c87e34-7a2e-4a0e-9ac1-e0628b13b760",
   "metadata": {},
   "outputs": [],
   "source": [
    "idades.append([20,30])"
   ]
  },
  {
   "cell_type": "code",
   "execution_count": 18,
   "id": "7290f6c0-5565-4ab9-bd63-cefbb602fda2",
   "metadata": {},
   "outputs": [
    {
     "data": {
      "text/plain": [
       "[10, [20, 30]]"
      ]
     },
     "execution_count": 18,
     "metadata": {},
     "output_type": "execute_result"
    }
   ],
   "source": [
    "idades"
   ]
  },
  {
   "cell_type": "code",
   "execution_count": 19,
   "id": "31f7774a-fe3f-48ad-ba31-8def051322e4",
   "metadata": {},
   "outputs": [],
   "source": [
    "idades.remove([20, 30])"
   ]
  },
  {
   "cell_type": "code",
   "execution_count": 21,
   "id": "af4b6695-dc55-4db6-9105-afa737019e8d",
   "metadata": {
    "editable": true,
    "slideshow": {
     "slide_type": ""
    },
    "tags": []
   },
   "outputs": [
    {
     "data": {
      "text/plain": [
       "[10]"
      ]
     },
     "execution_count": 21,
     "metadata": {},
     "output_type": "execute_result"
    }
   ],
   "source": [
    "idades"
   ]
  },
  {
   "cell_type": "code",
   "execution_count": 23,
   "id": "f55a5471-424c-4e81-bb52-9eb6f5412bfc",
   "metadata": {},
   "outputs": [],
   "source": [
    "idades.append(20)\n",
    "idades.append(30)\n",
    "idades.append(40)"
   ]
  },
  {
   "cell_type": "code",
   "execution_count": 24,
   "id": "e7ae91d5-51a0-48f6-a820-69fe7ecb5363",
   "metadata": {},
   "outputs": [
    {
     "data": {
      "text/plain": [
       "[10, 20, 20, 30, 40]"
      ]
     },
     "execution_count": 24,
     "metadata": {},
     "output_type": "execute_result"
    }
   ],
   "source": [
    "idades"
   ]
  },
  {
   "cell_type": "code",
   "execution_count": 25,
   "id": "c35f4bf4-10c2-429e-ac9f-1ce63bbfdfc5",
   "metadata": {},
   "outputs": [
    {
     "data": {
      "text/plain": [
       "True"
      ]
     },
     "execution_count": 25,
     "metadata": {},
     "output_type": "execute_result"
    }
   ],
   "source": [
    "20 in idades"
   ]
  },
  {
   "cell_type": "code",
   "execution_count": 26,
   "id": "40e97074-6ba1-4e4c-a7df-e274256ab8f8",
   "metadata": {},
   "outputs": [],
   "source": [
    "idades.append(37)"
   ]
  },
  {
   "cell_type": "code",
   "execution_count": 27,
   "id": "973c225f-ad82-4371-b57b-0ead9c96435e",
   "metadata": {},
   "outputs": [
    {
     "data": {
      "text/plain": [
       "[10, 20, 20, 30, 40, 37]"
      ]
     },
     "execution_count": 27,
     "metadata": {},
     "output_type": "execute_result"
    }
   ],
   "source": [
    "idades"
   ]
  },
  {
   "cell_type": "code",
   "execution_count": 30,
   "id": "32f5f433-664f-4232-bb07-1bbf6aec899e",
   "metadata": {},
   "outputs": [],
   "source": [
    "if 37 in idades:\n",
    "    idades.remove(37)"
   ]
  },
  {
   "cell_type": "code",
   "execution_count": 31,
   "id": "253d511b-7616-4c78-a1f2-cbf5f169c2aa",
   "metadata": {},
   "outputs": [
    {
     "data": {
      "text/plain": [
       "[10, 20, 20, 30, 40]"
      ]
     },
     "execution_count": 31,
     "metadata": {},
     "output_type": "execute_result"
    }
   ],
   "source": [
    "idades"
   ]
  },
  {
   "cell_type": "code",
   "execution_count": 32,
   "id": "da0f5664-f3c8-4a40-8574-8a3cbd30ea6c",
   "metadata": {},
   "outputs": [],
   "source": [
    "idades.insert(0, 1)"
   ]
  },
  {
   "cell_type": "code",
   "execution_count": 33,
   "id": "c1b1a03e-a7c6-4f06-af75-e11b830be3ff",
   "metadata": {},
   "outputs": [
    {
     "data": {
      "text/plain": [
       "[1, 10, 20, 20, 30, 40]"
      ]
     },
     "execution_count": 33,
     "metadata": {},
     "output_type": "execute_result"
    }
   ],
   "source": [
    "idades"
   ]
  },
  {
   "cell_type": "code",
   "execution_count": 34,
   "id": "1130e5c5-a480-4571-a92a-c338043b02cf",
   "metadata": {},
   "outputs": [
    {
     "data": {
      "text/plain": [
       "[1, 10, 20, 20, 30, 40, 3, 4, 5, 6]"
      ]
     },
     "execution_count": 34,
     "metadata": {},
     "output_type": "execute_result"
    }
   ],
   "source": [
    "idades.extend([3, 4, 5, 6])\n",
    "idades"
   ]
  },
  {
   "cell_type": "code",
   "execution_count": 35,
   "id": "aecd48a4-ac71-464f-9d44-dc8d61a266fd",
   "metadata": {},
   "outputs": [
    {
     "data": {
      "text/plain": [
       "[1, 3, 4, 5, 6, 10, 20, 20, 30, 40]"
      ]
     },
     "execution_count": 35,
     "metadata": {},
     "output_type": "execute_result"
    }
   ],
   "source": [
    "idades.sort()\n",
    "idades"
   ]
  },
  {
   "cell_type": "code",
   "execution_count": 37,
   "id": "13359f83-ec1c-443d-858c-0653e59a88b1",
   "metadata": {},
   "outputs": [
    {
     "data": {
      "text/plain": [
       "[2, 4, 5, 6, 7, 11, 21, 21, 31, 41]"
      ]
     },
     "execution_count": 37,
     "metadata": {},
     "output_type": "execute_result"
    }
   ],
   "source": [
    "idades2 = [idade+1 for idade in idades]\n",
    "idades2"
   ]
  },
  {
   "cell_type": "code",
   "execution_count": 39,
   "id": "a4adf8ff-9d9f-4180-be92-b908e3ed2d97",
   "metadata": {},
   "outputs": [
    {
     "data": {
      "text/plain": [
       "[30, 40]"
      ]
     },
     "execution_count": 39,
     "metadata": {},
     "output_type": "execute_result"
    }
   ],
   "source": [
    "idades2 = [idade for idade in idades if idade > 21]\n",
    "idades2"
   ]
  },
  {
   "cell_type": "markdown",
   "id": "025f0b50-0d4b-4a1f-b6ea-1640d81b98cb",
   "metadata": {},
   "source": [
    "### Objetos"
   ]
  },
  {
   "cell_type": "code",
   "execution_count": 67,
   "id": "ff794209-58fa-4676-81dd-4e736f00fedb",
   "metadata": {},
   "outputs": [],
   "source": [
    "class ContaCorrente:\n",
    "    def __init__(self, codigo):\n",
    "        self.saldo = 0\n",
    "        self.codigo = codigo\n",
    "    def deposita(self, valor):\n",
    "        self.saldo += valor\n",
    "        \n",
    "    def __str__(self):\n",
    "        return \"[Codigo: {} | Saldo: {}]\".format(self.codigo, self.saldo)\n",
    "\n",
    "        "
   ]
  },
  {
   "cell_type": "code",
   "execution_count": 68,
   "id": "aad09f1f-60ad-42a4-b710-193ca6c876d9",
   "metadata": {},
   "outputs": [
    {
     "name": "stdout",
     "output_type": "stream",
     "text": [
      "[Codigo: 500 | Saldo: 0]\n"
     ]
    }
   ],
   "source": [
    "conta = ContaCorrente(500)\n",
    "print(conta)"
   ]
  },
  {
   "cell_type": "code",
   "execution_count": 69,
   "id": "b25a83f3-7039-4ada-aa38-870ca666d3e0",
   "metadata": {},
   "outputs": [],
   "source": [
    "conta2 = ContaCorrente(323232)\n",
    "conta2.deposita(1000)"
   ]
  },
  {
   "cell_type": "code",
   "execution_count": 70,
   "id": "2c290bbd-dc58-47c4-a640-28be31676756",
   "metadata": {},
   "outputs": [],
   "source": [
    "contas = [conta, conta2]"
   ]
  },
  {
   "cell_type": "code",
   "execution_count": 71,
   "id": "53193657-3937-40f7-85f3-5b85c416b29e",
   "metadata": {},
   "outputs": [
    {
     "name": "stdout",
     "output_type": "stream",
     "text": [
      "[<__main__.ContaCorrente object at 0x7bff25643e00>, <__main__.ContaCorrente object at 0x7bff25e620d0>]\n"
     ]
    }
   ],
   "source": [
    "print(contas)"
   ]
  },
  {
   "cell_type": "code",
   "execution_count": 72,
   "id": "ccd6d1dc-bf55-4300-beda-9c752ce080a5",
   "metadata": {},
   "outputs": [
    {
     "name": "stdout",
     "output_type": "stream",
     "text": [
      "[Codigo: 500 | Saldo: 0]\n",
      "[Codigo: 323232 | Saldo: 1000]\n"
     ]
    }
   ],
   "source": [
    "for c in contas:\n",
    "    print(c)"
   ]
  },
  {
   "cell_type": "code",
   "execution_count": null,
   "id": "ce11bd6f-4ec5-49b8-96fe-b5dcf9b2a5ab",
   "metadata": {},
   "outputs": [],
   "source": []
  }
 ],
 "metadata": {
  "kernelspec": {
   "display_name": "Python 3 (ipykernel)",
   "language": "python",
   "name": "python3"
  },
  "language_info": {
   "codemirror_mode": {
    "name": "ipython",
    "version": 3
   },
   "file_extension": ".py",
   "mimetype": "text/x-python",
   "name": "python",
   "nbconvert_exporter": "python",
   "pygments_lexer": "ipython3",
   "version": "3.13.7"
  }
 },
 "nbformat": 4,
 "nbformat_minor": 5
}
